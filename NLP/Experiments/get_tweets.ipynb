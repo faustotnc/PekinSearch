{
 "cells": [
  {
   "cell_type": "code",
   "execution_count": 1,
   "metadata": {},
   "outputs": [],
   "source": [
    "import tweepy\n",
    "import pandas as pd"
   ]
  },
  {
   "cell_type": "markdown",
   "metadata": {},
   "source": [
    "## Read the Bearer Token for Authentication"
   ]
  },
  {
   "cell_type": "code",
   "execution_count": 2,
   "metadata": {},
   "outputs": [],
   "source": [
    "with open(\"./bearer_token.txt\") as file:\n",
    "    BEARER_TOKEN = file.read()"
   ]
  },
  {
   "cell_type": "markdown",
   "metadata": {},
   "source": [
    "## Connect to the Twitter Client"
   ]
  },
  {
   "cell_type": "code",
   "execution_count": 3,
   "metadata": {},
   "outputs": [],
   "source": [
    "client = tweepy.Client(bearer_token=BEARER_TOKEN)"
   ]
  },
  {
   "cell_type": "markdown",
   "metadata": {},
   "source": [
    "## Read Tweets\n",
    "This will retrieve the most recent 100 tweets written in english that contain the hashtags \"#iphone\" or \"#apple\" for the past week. The query can only be 512 characters long."
   ]
  },
  {
   "cell_type": "code",
   "execution_count": 4,
   "metadata": {},
   "outputs": [],
   "source": [
    "# Replace with your own search query\n",
    "query = '(#iphone OR #Apple) lang:en has:hashtags -is:reply'\n",
    "\n",
    "tweets = client.search_recent_tweets(\n",
    "    query=query,\n",
    "    tweet_fields=['created_at', 'possibly_sensitive', 'public_metrics'],\n",
    "    max_results=100\n",
    ")"
   ]
  },
  {
   "cell_type": "markdown",
   "metadata": {},
   "source": [
    "## Convert the Tweets to a Pandas DataFram"
   ]
  },
  {
   "cell_type": "code",
   "execution_count": 5,
   "metadata": {},
   "outputs": [],
   "source": [
    "raw_tweets = [\n",
    "    [\n",
    "        t.id,\n",
    "        t.text,\n",
    "        t.created_at,\n",
    "        t.possibly_sensitive,\n",
    "        t.public_metrics['retweet_count'],\n",
    "        t.public_metrics['reply_count'],\n",
    "        t.public_metrics['like_count'],\n",
    "        t.public_metrics['quote_count'],\n",
    "    ]\n",
    "    for t in tweets.data\n",
    "]\n",
    "\n",
    "df = pd.DataFrame(raw_tweets, columns=[\n",
    "    \"id\", \"text\", \"created_at\", \"is_sensitive\", \"retweet_count\",\n",
    "    \"reply_count\", \"like_count\", \"quote_count\"\n",
    "])"
   ]
  },
  {
   "cell_type": "markdown",
   "metadata": {},
   "source": [
    "### Preview the DataFrame"
   ]
  },
  {
   "cell_type": "code",
   "execution_count": 6,
   "metadata": {},
   "outputs": [
    {
     "data": {
      "text/html": [
       "<div>\n",
       "<style scoped>\n",
       "    .dataframe tbody tr th:only-of-type {\n",
       "        vertical-align: middle;\n",
       "    }\n",
       "\n",
       "    .dataframe tbody tr th {\n",
       "        vertical-align: top;\n",
       "    }\n",
       "\n",
       "    .dataframe thead th {\n",
       "        text-align: right;\n",
       "    }\n",
       "</style>\n",
       "<table border=\"1\" class=\"dataframe\">\n",
       "  <thead>\n",
       "    <tr style=\"text-align: right;\">\n",
       "      <th></th>\n",
       "      <th>id</th>\n",
       "      <th>text</th>\n",
       "      <th>created_at</th>\n",
       "      <th>is_sensitive</th>\n",
       "      <th>retweet_count</th>\n",
       "      <th>reply_count</th>\n",
       "      <th>like_count</th>\n",
       "      <th>quote_count</th>\n",
       "    </tr>\n",
       "  </thead>\n",
       "  <tbody>\n",
       "    <tr>\n",
       "      <th>0</th>\n",
       "      <td>1593001348341338113</td>\n",
       "      <td>RT @appleinsider: How To Create and Share Cale...</td>\n",
       "      <td>2022-11-16 22:01:32+00:00</td>\n",
       "      <td>False</td>\n",
       "      <td>1</td>\n",
       "      <td>0</td>\n",
       "      <td>0</td>\n",
       "      <td>0</td>\n",
       "    </tr>\n",
       "    <tr>\n",
       "      <th>1</th>\n",
       "      <td>1593001333212483585</td>\n",
       "      <td>i’d like ask something. how do i snyc all musi...</td>\n",
       "      <td>2022-11-16 22:01:29+00:00</td>\n",
       "      <td>False</td>\n",
       "      <td>0</td>\n",
       "      <td>0</td>\n",
       "      <td>0</td>\n",
       "      <td>0</td>\n",
       "    </tr>\n",
       "    <tr>\n",
       "      <th>2</th>\n",
       "      <td>1593001286173347841</td>\n",
       "      <td>RT @GiveawayBase: Enter for a #chance to #win ...</td>\n",
       "      <td>2022-11-16 22:01:17+00:00</td>\n",
       "      <td>False</td>\n",
       "      <td>2</td>\n",
       "      <td>0</td>\n",
       "      <td>0</td>\n",
       "      <td>0</td>\n",
       "    </tr>\n",
       "    <tr>\n",
       "      <th>3</th>\n",
       "      <td>1593001267131187203</td>\n",
       "      <td>How To Create and Share Calendars in iOS 16 ht...</td>\n",
       "      <td>2022-11-16 22:01:13+00:00</td>\n",
       "      <td>False</td>\n",
       "      <td>1</td>\n",
       "      <td>0</td>\n",
       "      <td>2</td>\n",
       "      <td>0</td>\n",
       "    </tr>\n",
       "    <tr>\n",
       "      <th>4</th>\n",
       "      <td>1593001231110152192</td>\n",
       "      <td>Abstract Flowers Pattern iPhone Case\\nlink :ht...</td>\n",
       "      <td>2022-11-16 22:01:04+00:00</td>\n",
       "      <td>False</td>\n",
       "      <td>0</td>\n",
       "      <td>0</td>\n",
       "      <td>0</td>\n",
       "      <td>0</td>\n",
       "    </tr>\n",
       "    <tr>\n",
       "      <th>...</th>\n",
       "      <td>...</td>\n",
       "      <td>...</td>\n",
       "      <td>...</td>\n",
       "      <td>...</td>\n",
       "      <td>...</td>\n",
       "      <td>...</td>\n",
       "      <td>...</td>\n",
       "      <td>...</td>\n",
       "    </tr>\n",
       "    <tr>\n",
       "      <th>95</th>\n",
       "      <td>1592992946013732864</td>\n",
       "      <td>RT @OptionsProOI: #Apple $AAPL Unusual #Option...</td>\n",
       "      <td>2022-11-16 21:28:09+00:00</td>\n",
       "      <td>False</td>\n",
       "      <td>2</td>\n",
       "      <td>0</td>\n",
       "      <td>0</td>\n",
       "      <td>0</td>\n",
       "    </tr>\n",
       "    <tr>\n",
       "      <th>96</th>\n",
       "      <td>1592992705977946114</td>\n",
       "      <td>Ah yeah.  More #iOS16 #bugs. #WellesBugs #Appl...</td>\n",
       "      <td>2022-11-16 21:27:12+00:00</td>\n",
       "      <td>False</td>\n",
       "      <td>0</td>\n",
       "      <td>0</td>\n",
       "      <td>0</td>\n",
       "      <td>0</td>\n",
       "    </tr>\n",
       "    <tr>\n",
       "      <th>97</th>\n",
       "      <td>1592992656740601857</td>\n",
       "      <td>unforgettable”  iMovie /apple Starring, filmin...</td>\n",
       "      <td>2022-11-16 21:27:00+00:00</td>\n",
       "      <td>False</td>\n",
       "      <td>0</td>\n",
       "      <td>0</td>\n",
       "      <td>0</td>\n",
       "      <td>0</td>\n",
       "    </tr>\n",
       "    <tr>\n",
       "      <th>98</th>\n",
       "      <td>1592992434300284928</td>\n",
       "      <td>RT @jacobincambodia: Captured this lightning s...</td>\n",
       "      <td>2022-11-16 21:26:07+00:00</td>\n",
       "      <td>False</td>\n",
       "      <td>55</td>\n",
       "      <td>0</td>\n",
       "      <td>0</td>\n",
       "      <td>0</td>\n",
       "    </tr>\n",
       "    <tr>\n",
       "      <th>99</th>\n",
       "      <td>1592992205027053568</td>\n",
       "      <td>RT @ChimmieeHQ: Man Was Seducing Them Gurls Wi...</td>\n",
       "      <td>2022-11-16 21:25:12+00:00</td>\n",
       "      <td>False</td>\n",
       "      <td>380</td>\n",
       "      <td>0</td>\n",
       "      <td>0</td>\n",
       "      <td>0</td>\n",
       "    </tr>\n",
       "  </tbody>\n",
       "</table>\n",
       "<p>100 rows × 8 columns</p>\n",
       "</div>"
      ],
      "text/plain": [
       "                     id                                               text  \\\n",
       "0   1593001348341338113  RT @appleinsider: How To Create and Share Cale...   \n",
       "1   1593001333212483585  i’d like ask something. how do i snyc all musi...   \n",
       "2   1593001286173347841  RT @GiveawayBase: Enter for a #chance to #win ...   \n",
       "3   1593001267131187203  How To Create and Share Calendars in iOS 16 ht...   \n",
       "4   1593001231110152192  Abstract Flowers Pattern iPhone Case\\nlink :ht...   \n",
       "..                  ...                                                ...   \n",
       "95  1592992946013732864  RT @OptionsProOI: #Apple $AAPL Unusual #Option...   \n",
       "96  1592992705977946114  Ah yeah.  More #iOS16 #bugs. #WellesBugs #Appl...   \n",
       "97  1592992656740601857  unforgettable”  iMovie /apple Starring, filmin...   \n",
       "98  1592992434300284928  RT @jacobincambodia: Captured this lightning s...   \n",
       "99  1592992205027053568  RT @ChimmieeHQ: Man Was Seducing Them Gurls Wi...   \n",
       "\n",
       "                  created_at  is_sensitive  retweet_count  reply_count  \\\n",
       "0  2022-11-16 22:01:32+00:00         False              1            0   \n",
       "1  2022-11-16 22:01:29+00:00         False              0            0   \n",
       "2  2022-11-16 22:01:17+00:00         False              2            0   \n",
       "3  2022-11-16 22:01:13+00:00         False              1            0   \n",
       "4  2022-11-16 22:01:04+00:00         False              0            0   \n",
       "..                       ...           ...            ...          ...   \n",
       "95 2022-11-16 21:28:09+00:00         False              2            0   \n",
       "96 2022-11-16 21:27:12+00:00         False              0            0   \n",
       "97 2022-11-16 21:27:00+00:00         False              0            0   \n",
       "98 2022-11-16 21:26:07+00:00         False             55            0   \n",
       "99 2022-11-16 21:25:12+00:00         False            380            0   \n",
       "\n",
       "    like_count  quote_count  \n",
       "0            0            0  \n",
       "1            0            0  \n",
       "2            0            0  \n",
       "3            2            0  \n",
       "4            0            0  \n",
       "..         ...          ...  \n",
       "95           0            0  \n",
       "96           0            0  \n",
       "97           0            0  \n",
       "98           0            0  \n",
       "99           0            0  \n",
       "\n",
       "[100 rows x 8 columns]"
      ]
     },
     "execution_count": 6,
     "metadata": {},
     "output_type": "execute_result"
    }
   ],
   "source": [
    "df"
   ]
  },
  {
   "cell_type": "markdown",
   "metadata": {},
   "source": [
    "### Save the Tweets DataFrame for Testing"
   ]
  },
  {
   "cell_type": "code",
   "execution_count": 7,
   "metadata": {},
   "outputs": [],
   "source": [
    "df.to_csv(\"test_data.csv\")"
   ]
  }
 ],
 "metadata": {
  "kernelspec": {
   "display_name": "Python 3.9.13 ('PekinSearch')",
   "language": "python",
   "name": "python3"
  },
  "language_info": {
   "codemirror_mode": {
    "name": "ipython",
    "version": 3
   },
   "file_extension": ".py",
   "mimetype": "text/x-python",
   "name": "python",
   "nbconvert_exporter": "python",
   "pygments_lexer": "ipython3",
   "version": "3.9.13"
  },
  "orig_nbformat": 4,
  "vscode": {
   "interpreter": {
    "hash": "3147a62436f97edde40fb4dcd213af3cdf6ddf35ca6df439f5b90b0d99d2596f"
   }
  }
 },
 "nbformat": 4,
 "nbformat_minor": 2
}
