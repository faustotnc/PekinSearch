{
 "cells": [
  {
   "cell_type": "code",
   "execution_count": 1,
   "metadata": {},
   "outputs": [
    {
     "name": "stderr",
     "output_type": "stream",
     "text": [
      "/Users/faustogerman/miniforge3/envs/PekinSearch/lib/python3.9/site-packages/tqdm/auto.py:22: TqdmWarning: IProgress not found. Please update jupyter and ipywidgets. See https://ipywidgets.readthedocs.io/en/stable/user_install.html\n",
      "  from .autonotebook import tqdm as notebook_tqdm\n"
     ]
    }
   ],
   "source": [
    "import hdbscan\n",
    "import umap\n",
    "\n",
    "import pandas as pd\n",
    "import numpy as np\n",
    "import matplotlib.pyplot as plt\n",
    "\n",
    "from sentence_transformers import SentenceTransformer\n",
    "from sklearn.feature_extraction.text import CountVectorizer\n",
    "from sklearn.datasets import fetch_20newsgroups\n"
   ]
  },
  {
   "cell_type": "code",
   "execution_count": 2,
   "metadata": {},
   "outputs": [],
   "source": [
    "RAW_DATA = pd.read_csv(\"./test_data.csv\")\n",
    "data = list(RAW_DATA[\"text\"])"
   ]
  },
  {
   "cell_type": "markdown",
   "metadata": {},
   "source": [
    "## Generate word embeddings from corpus"
   ]
  },
  {
   "cell_type": "code",
   "execution_count": 3,
   "metadata": {},
   "outputs": [
    {
     "name": "stderr",
     "output_type": "stream",
     "text": [
      "Batches: 100%|██████████| 4/4 [00:01<00:00,  3.06it/s]\n"
     ]
    }
   ],
   "source": [
    "model = SentenceTransformer('sentence-transformers/paraphrase-albert-small-v2')\n",
    "embeddings = model.encode(data, show_progress_bar=True)"
   ]
  },
  {
   "cell_type": "markdown",
   "metadata": {},
   "source": [
    "## Lower the dimensionality of word embeddings"
   ]
  },
  {
   "cell_type": "code",
   "execution_count": 4,
   "metadata": {},
   "outputs": [],
   "source": [
    "umap_model = umap.UMAP(\n",
    "    n_neighbors=6,\n",
    "    n_components=5,\n",
    "    metric='cosine',\n",
    "    random_state=42\n",
    ").fit(embeddings)\n",
    "\n",
    "umap_embeddings = umap_model.transform(embeddings)"
   ]
  },
  {
   "cell_type": "markdown",
   "metadata": {},
   "source": [
    "## Cluster the embeddings"
   ]
  },
  {
   "cell_type": "code",
   "execution_count": 5,
   "metadata": {},
   "outputs": [],
   "source": [
    "cluster = hdbscan.HDBSCAN(\n",
    "    min_cluster_size=3,\n",
    "    metric='euclidean',\n",
    "    cluster_selection_method='eom',\n",
    "    prediction_data=True,\n",
    ").fit(umap_embeddings)"
   ]
  },
  {
   "cell_type": "code",
   "execution_count": 6,
   "metadata": {},
   "outputs": [
    {
     "data": {
      "text/plain": [
       "array([3, 3, 2, 3, 3, 3, 3, 3, 3, 3, 3, 3, 3, 2, 3, 3, 1, 3, 3, 3, 0, 0,\n",
       "       3, 0, 3, 3, 3, 3, 0, 3, 3, 3, 3, 3, 3, 3, 3, 3, 3, 3, 1, 3, 3, 3,\n",
       "       2, 3, 3, 2, 2, 3, 2, 2, 2, 2, 2, 1, 2, 3, 2, 3, 3, 3, 3, 1, 3, 3,\n",
       "       3, 1, 3, 3, 3, 3, 3, 3, 3, 3, 3, 3, 3, 3, 2, 3, 1, 2, 2, 3, 3, 3,\n",
       "       3, 3, 3, 3, 3, 3, 3, 3, 3, 3, 1, 3])"
      ]
     },
     "execution_count": 6,
     "metadata": {},
     "output_type": "execute_result"
    }
   ],
   "source": [
    "# Return a cluster label for each of the documents\n",
    "# A label of -1 means that the document is an outlier\n",
    "cluster.labels_"
   ]
  },
  {
   "cell_type": "code",
   "execution_count": 7,
   "metadata": {},
   "outputs": [
    {
     "data": {
      "text/plain": [
       "array([0, 1, 2, 3])"
      ]
     },
     "execution_count": 7,
     "metadata": {},
     "output_type": "execute_result"
    }
   ],
   "source": [
    "# Return a cluster label for each of the documents\n",
    "# A label of -1 means that the document is an outlier\n",
    "np.unique(cluster.labels_)"
   ]
  },
  {
   "cell_type": "markdown",
   "metadata": {},
   "source": [
    "## Visualize the clusters in 2-dimensions\n",
    "\n",
    "This is only for visualization purposes. The model and clusters used for the rest of the experiment are defined above.\n"
   ]
  },
  {
   "cell_type": "code",
   "execution_count": 8,
   "metadata": {},
   "outputs": [
    {
     "data": {
      "text/plain": [
       "<matplotlib.colorbar.Colorbar at 0x2b0548eb0>"
      ]
     },
     "execution_count": 8,
     "metadata": {},
     "output_type": "execute_result"
    },
    {
     "data": {
      "image/png": "[encoded data removed]",
      "text/plain": [
       "<Figure size 1000x500 with 2 Axes>"
      ]
     },
     "metadata": {},
     "output_type": "display_data"
    }
   ],
   "source": [
    "# Prepare data\n",
    "umap_data = umap.UMAP(\n",
    "    n_neighbors=6,\n",
    "    n_components=2,\n",
    "    min_dist=0.0,\n",
    "    metric='cosine',\n",
    "    random_state=1\n",
    ").fit_transform(embeddings)\n",
    "result = pd.DataFrame(umap_data, columns=['x', 'y'])\n",
    "result['labels'] = cluster.labels_\n",
    "\n",
    "# Visualize clusters\n",
    "fig, ax = plt.subplots(figsize=(10, 5))\n",
    "outliers = result.loc[result.labels == -1, :]\n",
    "clustered = result.loc[result.labels != -1, :]\n",
    "plt.scatter(outliers.x, outliers.y, color='#BDBDBD', s=5)\n",
    "plt.scatter(clustered.x, clustered.y, c=clustered.labels, s=5, cmap='hsv_r')\n",
    "plt.colorbar()"
   ]
  },
  {
   "cell_type": "markdown",
   "metadata": {},
   "source": [
    "## Group the Documents into Their Clusters\n"
   ]
  },
  {
   "cell_type": "code",
   "execution_count": 9,
   "metadata": {},
   "outputs": [],
   "source": [
    "docs_df = pd.DataFrame(data, columns=[\"Doc\"])\n",
    "docs_df['Topic'] = cluster.labels_\n",
    "docs_df['Doc_ID'] = range(len(docs_df))\n",
    "docs_per_topic = docs_df.groupby(['Topic'], as_index=False).agg({'Doc': ' '.join})"
   ]
  },
  {
   "cell_type": "code",
   "execution_count": 10,
   "metadata": {},
   "outputs": [
    {
     "data": {
      "text/html": [
       "<div>\n",
       "<style scoped>\n",
       "    .dataframe tbody tr th:only-of-type {\n",
       "        vertical-align: middle;\n",
       "    }\n",
       "\n",
       "    .dataframe tbody tr th {\n",
       "        vertical-align: top;\n",
       "    }\n",
       "\n",
       "    .dataframe thead th {\n",
       "        text-align: right;\n",
       "    }\n",
       "</style>\n",
       "<table border=\"1\" class=\"dataframe\">\n",
       "  <thead>\n",
       "    <tr style=\"text-align: right;\">\n",
       "      <th></th>\n",
       "      <th>Topic</th>\n",
       "      <th>Doc</th>\n",
       "    </tr>\n",
       "  </thead>\n",
       "  <tbody>\n",
       "    <tr>\n",
       "      <th>0</th>\n",
       "      <td>0</td>\n",
       "      <td>RT @OkroguLes: There are 2 differences in this...</td>\n",
       "    </tr>\n",
       "    <tr>\n",
       "      <th>1</th>\n",
       "      <td>1</td>\n",
       "      <td>RT @Grahampoo: The light this evening in south...</td>\n",
       "    </tr>\n",
       "    <tr>\n",
       "      <th>2</th>\n",
       "      <td>2</td>\n",
       "      <td>RT @GiveawayBase: Enter for a #chance to #win ...</td>\n",
       "    </tr>\n",
       "    <tr>\n",
       "      <th>3</th>\n",
       "      <td>3</td>\n",
       "      <td>RT @appleinsider: How To Create and Share Cale...</td>\n",
       "    </tr>\n",
       "  </tbody>\n",
       "</table>\n",
       "</div>"
      ],
      "text/plain": [
       "   Topic                                                Doc\n",
       "0      0  RT @OkroguLes: There are 2 differences in this...\n",
       "1      1  RT @Grahampoo: The light this evening in south...\n",
       "2      2  RT @GiveawayBase: Enter for a #chance to #win ...\n",
       "3      3  RT @appleinsider: How To Create and Share Cale..."
      ]
     },
     "execution_count": 10,
     "metadata": {},
     "output_type": "execute_result"
    }
   ],
   "source": [
    "docs_per_topic"
   ]
  },
  {
   "cell_type": "markdown",
   "metadata": {},
   "source": [
    "## Create Class-Based TF-IDF Matrix (c-TF-IDF)\n",
    "\n",
    "The difference between regular TF-IDF and Class-Based TF-IDF is that with c-TF-IDF we join the documents in each class (cluster) and teat the cluster as one big document.\n"
   ]
  },
  {
   "cell_type": "code",
   "execution_count": 11,
   "metadata": {},
   "outputs": [],
   "source": [
    "def c_tf_idf(documents, m, ngram_range=(1, 1)):\n",
    "    count = CountVectorizer(\n",
    "        ngram_range=ngram_range,\n",
    "        stop_words=\"english\"\n",
    "    ).fit(documents)\n",
    "    \n",
    "    t = count.transform(documents).toarray()\n",
    "    w = t.sum(axis=1)\n",
    "    tf = np.divide(t.T, w)\n",
    "    sum_t = t.sum(axis=0)\n",
    "    idf = np.log(np.divide(m, sum_t)).reshape(-1, 1)\n",
    "    tf_idf = np.multiply(tf, idf)\n",
    "\n",
    "    return tf_idf, count\n",
    "\n",
    "\n",
    "tf_idf, count = c_tf_idf(docs_per_topic.Doc.values, m=len(data))"
   ]
  },
  {
   "cell_type": "code",
   "execution_count": 12,
   "metadata": {},
   "outputs": [
    {
     "data": {
      "text/plain": [
       "(872, 4)"
      ]
     },
     "execution_count": 12,
     "metadata": {},
     "output_type": "execute_result"
    }
   ],
   "source": [
    "tf_idf.shape  # (number of words, number of clusters)"
   ]
  },
  {
   "cell_type": "markdown",
   "metadata": {},
   "source": [
    "## Extract the Relevant Words in Each Cluster\n"
   ]
  },
  {
   "cell_type": "code",
   "execution_count": 13,
   "metadata": {},
   "outputs": [
    {
     "name": "stderr",
     "output_type": "stream",
     "text": [
      "/Users/faustogerman/miniforge3/envs/PekinSearch/lib/python3.9/site-packages/sklearn/utils/deprecation.py:87: FutureWarning: Function get_feature_names is deprecated; get_feature_names is deprecated in 1.0 and will be removed in 1.2. Please use get_feature_names_out instead.\n",
      "  warnings.warn(msg, category=FutureWarning)\n"
     ]
    },
    {
     "data": {
      "text/html": [
       "<div>\n",
       "<style scoped>\n",
       "    .dataframe tbody tr th:only-of-type {\n",
       "        vertical-align: middle;\n",
       "    }\n",
       "\n",
       "    .dataframe tbody tr th {\n",
       "        vertical-align: top;\n",
       "    }\n",
       "\n",
       "    .dataframe thead th {\n",
       "        text-align: right;\n",
       "    }\n",
       "</style>\n",
       "<table border=\"1\" class=\"dataframe\">\n",
       "  <thead>\n",
       "    <tr style=\"text-align: right;\">\n",
       "      <th></th>\n",
       "      <th>Topic</th>\n",
       "      <th>Size</th>\n",
       "    </tr>\n",
       "  </thead>\n",
       "  <tbody>\n",
       "    <tr>\n",
       "      <th>3</th>\n",
       "      <td>3</td>\n",
       "      <td>74</td>\n",
       "    </tr>\n",
       "    <tr>\n",
       "      <th>2</th>\n",
       "      <td>2</td>\n",
       "      <td>15</td>\n",
       "    </tr>\n",
       "    <tr>\n",
       "      <th>1</th>\n",
       "      <td>1</td>\n",
       "      <td>7</td>\n",
       "    </tr>\n",
       "    <tr>\n",
       "      <th>0</th>\n",
       "      <td>0</td>\n",
       "      <td>4</td>\n",
       "    </tr>\n",
       "  </tbody>\n",
       "</table>\n",
       "</div>"
      ],
      "text/plain": [
       "   Topic  Size\n",
       "3      3    74\n",
       "2      2    15\n",
       "1      1     7\n",
       "0      0     4"
      ]
     },
     "execution_count": 13,
     "metadata": {},
     "output_type": "execute_result"
    }
   ],
   "source": [
    "# Get the most important words in each of the clusters\n",
    "def extract_top_n_words_per_topic(tf_idf, count, docs_per_topic, n=20):\n",
    "    words = count.get_feature_names()\n",
    "    labels = list(docs_per_topic.Topic)\n",
    "    tf_idf_transposed = tf_idf.T\n",
    "    indices = tf_idf_transposed.argsort()[:, -n:]\n",
    "    top_n_words = {label: [(words[j], tf_idf_transposed[i][j])\n",
    "                           for j in indices[i]][::-1] for i, label in enumerate(labels)}\n",
    "    return top_n_words\n",
    "\n",
    "\n",
    "# How many documents are in each cluster\n",
    "def extract_topic_sizes(df):\n",
    "    topic_sizes = (df.groupby(['Topic'])\n",
    "                     .Doc\n",
    "                     .count()\n",
    "                     .reset_index()\n",
    "                     .rename({\"Topic\": \"Topic\", \"Doc\": \"Size\"}, axis='columns')\n",
    "                     .sort_values(\"Size\", ascending=False))\n",
    "    return topic_sizes\n",
    "\n",
    "\n",
    "top_n_words = extract_top_n_words_per_topic(\n",
    "    tf_idf, count, docs_per_topic, n=20)\n",
    "topic_sizes = extract_topic_sizes(docs_df)\n",
    "topic_sizes.head(10)\n"
   ]
  },
  {
   "cell_type": "markdown",
   "metadata": {},
   "source": [
    "## Show the Words\n"
   ]
  },
  {
   "cell_type": "markdown",
   "metadata": {},
   "source": [
    "### Cluster #1"
   ]
  },
  {
   "cell_type": "code",
   "execution_count": 14,
   "metadata": {},
   "outputs": [
    {
     "data": {
      "text/plain": [
       "[('cloth', 0.2886547022066578),\n",
       " ('polishing', 0.2886547022066578),\n",
       " ('differences', 0.18393576142104004),\n",
       " ('cost', 0.18393576142104004),\n",
       " ('logo', 0.18393576142104004),\n",
       " ('doesn', 0.17118470134594233),\n",
       " ('vs', 0.16076632667200208),\n",
       " ('clean', 0.11177208586937559),\n",
       " ('microfibercloth', 0.11177208586937559),\n",
       " ('okrogules', 0.11177208586937559),\n",
       " ('shine', 0.11177208586937559),\n",
       " ('cleanmytech', 0.11177208586937559),\n",
       " ('polishingcloth', 0.11177208586937559),\n",
       " ('applepolishingcloth', 0.11177208586937559),\n",
       " ('99', 0.09196788071052002),\n",
       " ('5h6wuunyww', 0.06578814551411559),\n",
       " ('5h6wuug8ae', 0.06578814551411559),\n",
       " ('uyy2i3etux', 0.06578814551411559),\n",
       " ('rt', 0.02547423197953667),\n",
       " ('apple', 0.02321698992825356)]"
      ]
     },
     "execution_count": 14,
     "metadata": {},
     "output_type": "execute_result"
    }
   ],
   "source": [
    "sorted(top_n_words[0], key=lambda x: x[1], reverse=True)"
   ]
  },
  {
   "cell_type": "markdown",
   "metadata": {},
   "source": [
    "### Cluster #2"
   ]
  },
  {
   "cell_type": "code",
   "execution_count": 15,
   "metadata": {},
   "outputs": [
    {
     "data": {
      "text/plain": [
       "[('10', 0.17402540516041462),\n",
       " ('7mqe', 0.10845024424700975),\n",
       " ('rud09zkncl', 0.10845024424700975),\n",
       " ('quick', 0.10845024424700975),\n",
       " ('hampshire', 0.10845024424700975),\n",
       " ('happypines', 0.10845024424700975),\n",
       " ('sunset', 0.10845024424700975),\n",
       " ('light', 0.10845024424700975),\n",
       " ('lightning', 0.10845024424700975),\n",
       " ('southern', 0.10845024424700975),\n",
       " ('spin', 0.10845024424700975),\n",
       " ('tonight', 0.10845024424700975),\n",
       " ('evening', 0.10845024424700975),\n",
       " ('jacobincambodia', 0.10845024424700975),\n",
       " ('cambodia', 0.10845024424700975),\n",
       " ('riding', 0.10845024424700975),\n",
       " ('captured', 0.10845024424700975),\n",
       " ('storm', 0.10845024424700975),\n",
       " ('work', 0.09955286056293404),\n",
       " ('grahampoo', 0.08066026815315765)]"
      ]
     },
     "execution_count": 15,
     "metadata": {},
     "output_type": "execute_result"
    }
   ],
   "source": [
    "sorted(top_n_words[1], key=lambda x: x[1], reverse=True)"
   ]
  },
  {
   "cell_type": "markdown",
   "metadata": {},
   "source": [
    "### Cluster #3"
   ]
  },
  {
   "cell_type": "code",
   "execution_count": 16,
   "metadata": {},
   "outputs": [
    {
     "data": {
      "text/plain": [
       "[('iphonecase', 0.0874635455987576),\n",
       " ('phonecases', 0.0874635455987576),\n",
       " ('findyourthing', 0.07760964439259044),\n",
       " ('moms', 0.07760964439259044),\n",
       " ('dkent7673', 0.07760964439259044),\n",
       " ('totebags', 0.06671245232887463),\n",
       " ('cases', 0.06671245232887463),\n",
       " ('iphone', 0.05529920817050671),\n",
       " ('tshirt', 0.05450608130549194),\n",
       " ('rt', 0.050816473119801135),\n",
       " ('iphone14', 0.050034339246655964),\n",
       " ('giveaway', 0.040539098501846074),\n",
       " ('tees', 0.040539098501846074),\n",
       " ('case', 0.033356226164437314),\n",
       " ('andriod', 0.02386098541962742),\n",
       " ('assisted', 0.02386098541962742),\n",
       " ('sneaker', 0.02386098541962742),\n",
       " ('solar', 0.02386098541962742),\n",
       " ('uglybrosnft', 0.02386098541962742),\n",
       " ('murder', 0.02386098541962742)]"
      ]
     },
     "execution_count": 16,
     "metadata": {},
     "output_type": "execute_result"
    }
   ],
   "source": [
    "sorted(top_n_words[2], key=lambda x: x[1], reverse=True)"
   ]
  },
  {
   "cell_type": "markdown",
   "metadata": {},
   "source": [
    "### Cluster #4"
   ]
  },
  {
   "cell_type": "code",
   "execution_count": 17,
   "metadata": {},
   "outputs": [
    {
     "data": {
      "text/plain": [
       "[('ios', 0.025102540119022566),\n",
       " ('16', 0.022638663304127463),\n",
       " ('security', 0.0193158504734184),\n",
       " ('new', 0.01749481110976907),\n",
       " ('iphone', 0.016328173271078567),\n",
       " ('google', 0.016074645309837744),\n",
       " ('update', 0.016074645309837744),\n",
       " ('rt', 0.015604740353415462),\n",
       " ('ios16', 0.014808926219991605),\n",
       " ('pro', 0.014654479509906419),\n",
       " ('tech', 0.014065314646108027),\n",
       " ('gt', 0.013429168099093253),\n",
       " ('response', 0.013429168099093253),\n",
       " ('ipad', 0.013429168099093253),\n",
       " ('twitter', 0.011916198383269653),\n",
       " ('news', 0.011916198383269653),\n",
       " ('beta', 0.011916198383269653),\n",
       " ('users', 0.011916198383269653),\n",
       " ('like', 0.011190973415911045),\n",
       " ('amazon', 0.010243041606581387)]"
      ]
     },
     "execution_count": 17,
     "metadata": {},
     "output_type": "execute_result"
    }
   ],
   "source": [
    "sorted(top_n_words[3], key=lambda x: x[1], reverse=True)"
   ]
  }
 ],
 "metadata": {
  "kernelspec": {
   "display_name": "Python 3.9.13 ('PekinSearch')",
   "language": "python",
   "name": "python3"
  },
  "language_info": {
   "codemirror_mode": {
    "name": "ipython",
    "version": 3
   },
   "file_extension": ".py",
   "mimetype": "text/x-python",
   "name": "python",
   "nbconvert_exporter": "python",
   "pygments_lexer": "ipython3",
   "version": "3.9.13"
  },
  "orig_nbformat": 4,
  "vscode": {
   "interpreter": {
    "hash": "3147a62436f97edde40fb4dcd213af3cdf6ddf35ca6df439f5b90b0d99d2596f"
   }
  }
 },
 "nbformat": 4,
 "nbformat_minor": 2
}
